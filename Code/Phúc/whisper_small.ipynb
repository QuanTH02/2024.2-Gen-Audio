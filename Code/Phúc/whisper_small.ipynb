{
 "cells": [
  {
   "cell_type": "code",
   "execution_count": null,
   "metadata": {
    "vscode": {
     "languageId": "plaintext"
    }
   },
   "outputs": [],
   "source": [
    "# %%\n",
    "!pip install transformers pandas gdown\n",
    "\n",
    "# %%\n",
    "import os\n",
    "import gdown\n",
    "import pandas as pd\n",
    "from transformers import pipeline\n",
    "\n",
    "# Download prompts CSV\n",
    "PROMPTS_URL = 'https://drive.google.com/uc?id=18kFuhe47eKXJpKrESkPdGzisNtGnBp0q'\n",
    "gdown.download(PROMPTS_URL, 'prompts_asr.csv', quiet=False)\n",
    "\n",
    "# Unzip uploaded audio archive into audio_files/\n",
    "os.makedirs('audio_files', exist_ok=True)\n",
    "!unzip -q private-test-data-asr.zip -d audio_files\n",
    "\n",
    "# Read prompt paths\n",
    "df = pd.read_csv('prompts_asr.csv')\n",
    "\n",
    "# %%\n",
    "# Load Whisper ASR pipeline\n",
    "device = 0 if os.environ.get('CUDA_VISIBLE_DEVICES') else -1\n",
    "asr = pipeline(\n",
    "    task='automatic-speech-recognition',\n",
    "    model='vinai/PhoWhisper-small',\n",
    "    device=device\n",
    ")"
   ]
  },
  {
   "cell_type": "code",
   "execution_count": null,
   "metadata": {
    "vscode": {
     "languageId": "plaintext"
    }
   },
   "outputs": [],
   "source": [
    "sample_df = df.sample(n=10, random_state=42)\n",
    "\n",
    "output_path = 'sample_transcripts.txt'\n",
    "with open(output_path, 'w') as fout:\n",
    "    for _, row in sample_df.iterrows():\n",
    "        audio_file = os.path.join('audio_files/private-test-data-asr', row['path'])\n",
    "        result = asr(audio_file)\n",
    "        text = result['text'].lower().strip().rstrip('.')  # strip final period if present\n",
    "        fout.write(f\"{row['path']} | {text}\\n\")\n",
    "\n",
    "print(f\"✅ Sample transcription complete. Results saved to {output_path}\")"
   ]
  },
  {
   "cell_type": "code",
   "execution_count": null,
   "metadata": {
    "vscode": {
     "languageId": "plaintext"
    }
   },
   "outputs": [],
   "source": [
    "# %%\n",
    "# Transcribe and write to transcripts.txt\n",
    "output_path = 'transcripts.txt'\n",
    "with open(output_path, 'w') as fout:\n",
    "    for _, row in df.iterrows():\n",
    "        audio_file = os.path.join('audio_files/private-test-data-asr', row['path'])\n",
    "        result = asr(audio_file)\n",
    "        text = result['text'].lower().strip()\n",
    "        fout.write(text + '\\n')\n",
    "\n",
    "print(f\"✅ Transcription complete. Results saved to {output_path}\")"
   ]
  }
 ],
 "metadata": {
  "language_info": {
   "name": "python"
  }
 },
 "nbformat": 4,
 "nbformat_minor": 2
}
